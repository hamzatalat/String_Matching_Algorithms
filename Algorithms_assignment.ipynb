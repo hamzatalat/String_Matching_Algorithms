{
 "cells": [
  {
   "cell_type": "markdown",
   "metadata": {},
   "source": [
    "# Naive Algorithm (advanced)"
   ]
  },
  {
   "cell_type": "code",
   "execution_count": 50,
   "metadata": {},
   "outputs": [
    {
     "name": "stdout",
     "output_type": "stream",
     "text": [
      "Pattern found at index 0\n",
      "Pattern found at index 5\n",
      "Pattern found at index 8\n"
     ]
    }
   ],
   "source": [
    "class Naive_Algorithm:\n",
    "    def __init__(self, Text, Pattern):\n",
    "        self.Text = Text\n",
    "        self.Pattern = Pattern\n",
    "\n",
    "    def Naive_Algorithm_adv(self): \n",
    "        Text_size = len(self.Text) \n",
    "        Pattern_size = len(self.Pattern) \n",
    "        for i in range(Text_size-Pattern_size):\n",
    "            for j in range(Pattern_size): \n",
    "                if self.Text[i+j] != self.Pattern[j]: \n",
    "                    break\n",
    "                j += 1\n",
    "                \n",
    "            if j==Pattern_size:\n",
    "                print (\"Pattern found at index \" + str(i)) \n",
    "                i = i + Pattern_size \n",
    "            elif j==0: \n",
    "                i = i + 1\n",
    "            else: \n",
    "                i = i+ j\n",
    "  \n",
    "if __name__ == \"__main__\":\n",
    "    p1 = Naive_Algorithm(\"ABCDEABDABCDDADA\", \"AB\")\n",
    "    p1.Naive_Algorithm_adv()"
   ]
  },
  {
   "cell_type": "markdown",
   "metadata": {},
   "source": [
    "# Prefix function for KMP"
   ]
  },
  {
   "cell_type": "code",
   "execution_count": 51,
   "metadata": {},
   "outputs": [
    {
     "name": "stdout",
     "output_type": "stream",
     "text": [
      "[0, 1, 0, 1, 2, 3, 0, 1, 0]\n"
     ]
    }
   ],
   "source": [
    "class KMP:\n",
    "    def __init__(self, Text):\n",
    "        self.Text = Text\n",
    "\n",
    "    def KMP_Prefix(self): \n",
    "        j = 0\n",
    "        i = 1\n",
    "        prefix = [0]\n",
    "        while len(prefix) < len(p):\n",
    "            if self.Text[j] == self.Text[i]:\n",
    "                prefix.append(j+1)\n",
    "                i += 1\n",
    "                j += 1\n",
    "            else:\n",
    "                if j == 0:\n",
    "                    prefix.append(0)\n",
    "                    i += 1\n",
    "                if j != 0:\n",
    "                    j = prefix[j-1]\n",
    "        print (prefix)\n",
    "  \n",
    "if __name__ == \"__main__\":\n",
    "    p1 = KMP(\"aabaabcab\")\n",
    "    p1.KMP_Prefix()\n",
    "\n",
    "\n"
   ]
  },
  {
   "cell_type": "markdown",
   "metadata": {},
   "source": [
    "# Rabin-Karp Algorithm"
   ]
  },
  {
   "cell_type": "code",
   "execution_count": 84,
   "metadata": {},
   "outputs": [
    {
     "name": "stdout",
     "output_type": "stream",
     "text": [
      "[0, 8, 18]\n"
     ]
    }
   ],
   "source": [
    "class RollingHash:\n",
    "    def __init__(self, text, sizeWord):\n",
    "        self.text = text\n",
    "        self.hash = 0 \n",
    "        self.sizeWord = sizeWord\n",
    "\n",
    "        for i in range(0, sizeWord):\n",
    "            self.hash += (ord(self.text[i]) - ord(\"a\")+1)*(26**(sizeWord - i -1))\n",
    "        self.window_start = 0\n",
    "        self.window_end = sizeWord\n",
    "\n",
    "    def move_window(self):\n",
    "        if self.window_end <= len(self.text) - 1:\n",
    "            self.hash -= (ord(self.text[self.window_start]) - ord(\"a\")+1)*26**(self.sizeWord-1)\n",
    "            self.hash *= 26\n",
    "            self.hash += ord(self.text[self.window_end])- ord(\"a\")+1\n",
    "            self.window_start += 1\n",
    "            self.window_end += 1\n",
    "\n",
    "    def window_text(self):\n",
    "        return self.text[self.window_start:self.window_end]\n",
    "\n",
    "def rabin_karp(word, text):\n",
    "    li=[]\n",
    "    if word == \"\" or text == \"\":\n",
    "        return None\n",
    "    if len(word) > len(text):\n",
    "        return None\n",
    "\n",
    "    rolling_hash = RollingHash(text, len(word))\n",
    "    word_hash = RollingHash(word, len(word))\n",
    "\n",
    "    for i in range(len(text) - len(word) + 1):\n",
    "        if rolling_hash.hash == word_hash.hash:\n",
    "            if rolling_hash.window_text() == word:\n",
    "                li.append (i)\n",
    "            \n",
    "        rolling_hash.move_window()\n",
    "    return li\n",
    "\n",
    "if __name__ == \"__main__\":\n",
    "    print (rabin_karp(\"26\", \"26314159265358979326\"))\n"
   ]
  },
  {
   "cell_type": "code",
   "execution_count": null,
   "metadata": {},
   "outputs": [],
   "source": []
  }
 ],
 "metadata": {
  "kernelspec": {
   "display_name": "Python 3",
   "language": "python",
   "name": "python3"
  },
  "language_info": {
   "codemirror_mode": {
    "name": "ipython",
    "version": 3
   },
   "file_extension": ".py",
   "mimetype": "text/x-python",
   "name": "python",
   "nbconvert_exporter": "python",
   "pygments_lexer": "ipython3",
   "version": "3.7.4"
  }
 },
 "nbformat": 4,
 "nbformat_minor": 2
}
